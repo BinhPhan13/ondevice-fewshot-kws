{
 "cells": [
  {
   "cell_type": "code",
   "execution_count": null,
   "id": "c0c57363",
   "metadata": {},
   "outputs": [],
   "source": [
    "from sklearn.metrics import roc_curve, det_curve, DetCurveDisplay\n",
    "import matplotlib.pyplot as plt\n",
    "import torch\n",
    "\n",
    "import numpy as np\n",
    "np.set_printoptions(suppress=True)\n",
    "\n",
    "from pathlib import Path\n",
    "import concurrent.futures\n",
    "from functools import partial"
   ]
  },
  {
   "cell_type": "code",
   "execution_count": null,
   "id": "e7d8fd1f",
   "metadata": {},
   "outputs": [],
   "source": [
    "thresholds = torch.linspace(-3, -0.01, 300)\n",
    "def compute_model(exp_dir: Path, n_episodes: int, n_labels: int, device: str = 'cuda:0'):\n",
    "    def compute_ep(ep):\n",
    "        results = torch.load(exp_dir / f'ep{ep}.pt').to(device)\n",
    "        labels = results[:, 0].to(int)\n",
    "        scores = results[:, 1:]\n",
    "\n",
    "        y_true = labels == torch.arange(n_labels).view(-1,1).to(device)\n",
    "        y_pred = scores.T > thresholds.view(-1,1,1).to(device)\n",
    "\n",
    "\n",
    "        fpr = (~y_true & y_pred).sum(-1) / (~y_true).sum(1)\n",
    "        fnr = (y_true & ~y_pred).sum(-1) / y_true.sum(1)\n",
    "\n",
    "        fpr = fpr.mean(1)\n",
    "        fnr = fnr.mean(1)\n",
    "\n",
    "        return fpr, fnr\n",
    "\n",
    "\n",
    "    FPR = FNR = 0\n",
    "    for ep in range(n_episodes):\n",
    "        fpr, fnr = compute_ep(ep)\n",
    "        FPR += fpr\n",
    "        FNR += fnr\n",
    "\n",
    "    FPR = (FPR/n_episodes).cpu().numpy()\n",
    "    FNR = (FNR/n_episodes).cpu().numpy()\n",
    "    return FPR, FNR\n"
   ]
  },
  {
   "cell_type": "code",
   "execution_count": null,
   "id": "c04ab202",
   "metadata": {},
   "outputs": [],
   "source": [
    "log_ticks = np.array([1, 2, 5, 10, 20, 50, 80, 100])\n",
    "log_positions = np.linspace(0, 1, len(log_ticks))\n",
    "\n",
    "def plot_det(fpr, fnr, label: str):\n",
    "    fpr = np.interp(fpr*100, log_ticks, log_positions)\n",
    "    fnr = np.interp(fnr*100, log_ticks, log_positions)\n",
    "    plt.gca().plot(fpr, fnr, label=label)\n",
    "\n",
    "\n",
    "    log_labels = [f'{t}%' for t in log_ticks]\n",
    "    plt.xticks(log_positions, log_labels)\n",
    "    plt.yticks(log_positions, log_labels)\n"
   ]
  },
  {
   "cell_type": "code",
   "execution_count": null,
   "id": "560da7c3",
   "metadata": {},
   "outputs": [],
   "source": [
    "%%time\n",
    "exp_dir = 'eval_fsl.en263.ncm.5pos.50neg.1shot.100eps'\n",
    "model_dir = {\n",
    "    'BCResNet': Path('results/TL_EN_MSWC500U_BCResNet_80W_20Q_400E_40Epoch') / exp_dir,\n",
    "    'ConvNextV2': Path('results/TL_MSWC500U_ConvNeXtV2_Atto_Tung') / exp_dir,\n",
    "    'ResNet15': Path('results/EN_MSWC500U_Resnet15_1x49x10_to_64_80W_20Q_400E_40Epoch') / exp_dir,\n",
    "    'DSCNN_PN': Path('results/PN_MSWC500U_DSCNNLLN') / exp_dir,\n",
    "    'DSCNN_TL': Path('results/TL_MSWC500U_DSCNNLLN') / exp_dir,\n",
    "}\n",
    "device = 'cuda:1'\n",
    "n_episodes = 100 # ensure all models eval on this many episodes\n",
    "n_labels = 5\n",
    "\n",
    "with concurrent.futures.ProcessPoolExecutor() as exe:\n",
    "    tasks = [\n",
    "        exe.submit(compute_model, exp_dir, n_episodes, n_labels, device)\n",
    "        for exp_dir in model_dir.values()\n",
    "    ]\n",
    "    results = [task.result() for task in tasks]\n",
    "\n"
   ]
  },
  {
   "cell_type": "code",
   "execution_count": null,
   "id": "f8cfb31f",
   "metadata": {},
   "outputs": [],
   "source": [
    "plt.figure(figsize=(13,13))\n",
    "\n",
    "for model, (fpr, fnr) in zip(model_dir, results):\n",
    "    plot_det(fpr, fnr, model)\n",
    "\n",
    "\n",
    "plt.title(\"Detection Error Tradeoff (DET) curves\", pad=20, fontsize=15)\n",
    "plt.xlabel(\"False Acceptance Rate (in %)\", labelpad=10, fontsize=12)\n",
    "plt.ylabel(\"False Rejection Rate (in %)\", labelpad=10, fontsize=12)\n",
    "\n",
    "plt.legend()\n",
    "plt.grid()\n",
    "plt.savefig('det.en263_1.5pos.50neg.1shot.100eps.pdf')"
   ]
  },
  {
   "cell_type": "code",
   "execution_count": null,
   "id": "fd82200a",
   "metadata": {},
   "outputs": [],
   "source": []
  }
 ],
 "metadata": {
  "kernelspec": {
   "display_name": "Python 3 (ipykernel)",
   "language": "python",
   "name": "python3"
  },
  "language_info": {
   "codemirror_mode": {
    "name": "ipython",
    "version": 3
   },
   "file_extension": ".py",
   "mimetype": "text/x-python",
   "name": "python",
   "nbconvert_exporter": "python",
   "pygments_lexer": "ipython3",
   "version": "3.8.13"
  }
 },
 "nbformat": 4,
 "nbformat_minor": 5
}
